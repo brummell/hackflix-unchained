{
 "metadata": {
  "name": "euc.py"
 }, 
 "nbformat": 2, 
 "worksheets": [
  {
   "cells": [
    {
     "cell_type": "code", 
     "collapsed": true, 
     "input": [
      "import math as m", 
      "", 
      "    def similarity(user_1, user_2):", 
      "        simvec = [1]", 
      "            ", 
      "        for i in range(len(user_1)):", 
      "            simvec.append((user_2[i] - user_1[i])**2)", 
      "        pprint(simvec)", 
      "        print (1 / m.sqrt(sum(simvec)))"
     ], 
     "language": "python", 
     "outputs": []
    }
   ]
  }
 ]
}