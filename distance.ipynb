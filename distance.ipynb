{
 "metadata": {
  "name": "distance"
 }, 
 "nbformat": 2, 
 "worksheets": [
  {
   "cells": [
    {
     "cell_type": "code", 
     "collapsed": false, 
     "input": [
      "import math as m", 
      "from pprint import pprint", 
      "", 
      "def euc(user_1, user_2):", 
      "    simvec = [1]", 
      "            ", 
      "    for i in range(len(user_1)):", 
      "        simvec.append((user_2[i] - user_1[i])**2)", 
      "    pprint(simvec)", 
      "    print (1 / m.sqrt(sum(simvec)))"
     ], 
     "language": "python", 
     "outputs": [], 
     "prompt_number": 110
    }, 
    {
     "cell_type": "code", 
     "collapsed": false, 
     "input": [
      "from collections import OrderedDict", 
      "import numpy as np", 
      "", 
      "class User:", 
      "    ", 
      "    def setName(self,name):", 
      "        self.name = name", 
      "", 
      "    def setMovies(self, movies):", 
      "        self.movies = movies", 
      "        ", 
      "    def movieKey(self):", 
      "        return sorted(self.movies.keys())", 
      "    ", 
      "    def ratingVector(self):", 
      "        tmp = []", 
      "        for a in lineup:", 
      "            tmp.append(u2.movies[a])", 
      "        ra = np.array(tmp)"
     ], 
     "language": "python", 
     "outputs": [], 
     "prompt_number": 116
    }, 
    {
     "cell_type": "code", 
     "collapsed": false, 
     "input": [
      "u1 = User()", 
      "u1.setName(\"bob\")", 
      "movies1 = {\"sw\":4, \"ij\":5}", 
      "u1.setMovies(movies1)", 
      "", 
      "u2 = User()", 
      "u2.setName(\"frank\")", 
      "movies2 = {\"sw\":5, \"ij\":1}", 
      "u2.setMovies(movies2)", 
      "", 
      "lineup = u1.movieKey()", 
      "", 
      "#tmp1 = sorted(u1.movies.values())", 
      "#tmp2 = sorted(u2.movies.values())"
     ], 
     "language": "python", 
     "outputs": [
      {
       "output_type": "stream", 
       "stream": "stdout", 
       "text": [
        "1", 
        "5"
       ]
      }
     ], 
     "prompt_number": 106
    }, 
    {
     "cell_type": "code", 
     "collapsed": false, 
     "input": [
      "print lineup"
     ], 
     "language": "python", 
     "outputs": [
      {
       "output_type": "stream", 
       "stream": "stdout", 
       "text": [
        "['ij', 'sw']"
       ]
      }
     ], 
     "prompt_number": 107
    }, 
    {
     "cell_type": "code", 
     "collapsed": true, 
     "input": [], 
     "language": "python", 
     "outputs": []
    }
   ]
  }
 ]
}