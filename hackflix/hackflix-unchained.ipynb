{
 "metadata": {
  "name": "hackflix-unchained"
 }, 
 "nbformat": 2, 
 "worksheets": [
  {
   "cells": [
    {
     "cell_type": "code", 
     "collapsed": true, 
     "input": [
      "from db import *", 
      "import numpy as np", 
      "import scipy as sp"
     ], 
     "language": "python", 
     "outputs": [], 
     "prompt_number": 2
    }, 
    {
     "cell_type": "code", 
     "collapsed": true, 
     "input": [
      "db = DB()"
     ], 
     "language": "python", 
     "outputs": [], 
     "prompt_number": 3
    }, 
    {
     "cell_type": "code", 
     "collapsed": true, 
     "input": [
      "unnorm = np.zeros(db.maxmov('ml-100k/u.data'))"
     ], 
     "language": "python", 
     "outputs": [], 
     "prompt_number": 4
    }, 
    {
     "cell_type": "code", 
     "collapsed": false, 
     "input": [
      "for line in open('ml-100k/u.data'):", 
      "    split = line.split()", 
      "    unnorm[int(split[0])-1,int(split[1])-1] = int(split[2])"
     ], 
     "language": "python", 
     "outputs": [], 
     "prompt_number": 8
    }, 
    {
     "cell_type": "code", 
     "collapsed": false, 
     "input": [
      "unnorm"
     ], 
     "language": "python", 
     "outputs": [
      {
       "output_type": "pyout", 
       "prompt_number": 9, 
       "text": [
        "array([[ 5.,  3.,  4., ...,  0.,  0.,  0.],", 
        "       [ 4.,  5.,  3., ...,  0.,  0.,  0.],", 
        "       [ 0.,  4.,  0., ...,  0.,  0.,  0.],", 
        "       ..., ", 
        "       [ 5.,  0.,  0., ...,  0.,  0.,  0.],", 
        "       [ 0.,  0.,  0., ...,  0.,  0.,  0.],", 
        "       [ 0.,  5.,  0., ...,  0.,  0.,  0.]])"
       ]
      }
     ], 
     "prompt_number": 9
    }, 
    {
     "cell_type": "code", 
     "collapsed": true, 
     "input": [], 
     "language": "python", 
     "outputs": []
    }
   ]
  }
 ]
}